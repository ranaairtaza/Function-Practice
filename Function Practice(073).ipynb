{
 "cells": [
  {
   "cell_type": "code",
   "execution_count": 2,
   "id": "08f20bc7-f55b-42ae-8845-0fcd715e1cfb",
   "metadata": {},
   "outputs": [
    {
     "name": "stdout",
     "output_type": "stream",
     "text": [
      "Date Time Function:\n",
      "Hello,Rana Irtaza! The current time is 2024-11-28 21:30:08.304577.\n"
     ]
    }
   ],
   "source": [
    "\n",
    "#Rana Irtaza Khalid Masood\n",
    "#FA24-BBD-073\n",
    "\n",
    "#Question1\n",
    "#Create a function named greet_with_time that takes a name as input and prints a greeting message along with the current time\n",
    "print(\"Date Time Function:\")\n",
    "import datetime\n",
    "def greet_with_time(name):\n",
    "    current_time = datetime.datetime.now()\n",
    "    print(f\"Hello,{name}! The current time is {current_time}.\")\n",
    "greet_with_time(\"Rana Irtaza\")"
   ]
  },
  {
   "cell_type": "code",
   "execution_count": null,
   "id": "4897963e-6d39-4a58-8e99-0d7ac57dd5e7",
   "metadata": {},
   "outputs": [],
   "source": [
    "#Question2\n",
    "#Write a function called calculate_average that takes three numbers as input and returns their average.\n",
    "print(\"\\nFunction with Multiple Parameters:\")\n",
    "def calculate_average(num1, num2, num3):\n",
    "    average = (num1 + num2 + num3) / 3\n",
    "    return average\n",
    "result = calculate_average(10, 20, 30)\n",
    "print(f\"The average is: {result}\")"
   ]
  },
  {
   "cell_type": "code",
   "execution_count": null,
   "id": "ce4caa53-14f3-4ee6-a8d1-92e4818aa86d",
   "metadata": {},
   "outputs": [],
   "source": [
    "#Question3\n",
    "#Define a function calculate_discount that takes a price and a discount percentage as input. Set a default discount percentage of 10%.\n",
    "print(\"\\nDefault Argument:\")\n",
    "def calculate_discount(price, discount_percentage=10):\n",
    "    discounted_price = price - (price * discount_percentage / 100)\n",
    "    return discounted_price\n",
    "original_price = 1000\n",
    "discounted_price = calculate_discount(original_price)\n",
    "print(f\"The discounted price is: {discounted_price}\")\n",
    "discounted_price_custom = calculate_discount(original_price, 20)\n",
    "print(f\"The discounted price with a 20% discount is: {discounted_price_custom}\")"
   ]
  },
  {
   "cell_type": "code",
   "execution_count": null,
   "id": "ce8414bd-0672-4868-ad08-777e4dc56c27",
   "metadata": {},
   "outputs": [],
   "source": [
    "#Question4\n",
    "#Create a function print_info that takes a name, age, and city as keyword arguments.\n",
    "print(\"\\nKeyword Arguments:\")\n",
    "def print_info(*, name, age, city):\n",
    "    print(f\"Name: {name}\")\n",
    "    print(f\"Age: {age}\")\n",
    "    print(f\"City: {city}\")\n",
    "print_info(name=\"Mozzam\", age=19, city=\"Lahore\")\n"
   ]
  },
  {
   "cell_type": "code",
   "execution_count": null,
   "id": "563bbfb4-258f-4de7-a1e2-5ad5b6a0a654",
   "metadata": {},
   "outputs": [],
   "source": [
    "#Question5\n",
    "#Write a function find_max that can take any number of arguments and returns the maximum value.\n",
    "print(\"\\nVariable-Length Arguments:\")\n",
    "def find_max(*args):\n",
    "    if not args:\n",
    "        return None\n",
    "    return max(args)\n",
    "max_value = find_max(10, 20, 30, 5, 40)\n",
    "print(f\"The maximum value is: {max_value}\")\n",
    "no_value = find_max()\n",
    "print(f\"The result with no arguments is: {no_value}\")\n"
   ]
  },
  {
   "cell_type": "code",
   "execution_count": null,
   "id": "dd5dbe32-1720-43b4-97fc-e831b002b591",
   "metadata": {},
   "outputs": [],
   "source": [
    "#Question6\n",
    "#Implement a recursive function to calculate the factorial of a number.\n",
    "print(\"\\nRecursive Function:\")\n",
    "def factorial(n):\n",
    "    if n == 0 or n == 1:  \n",
    "        return 1\n",
    "    else:\n",
    "        return n * factorial(n - 1)  \n",
    "print(factorial(8))  "
   ]
  },
  {
   "cell_type": "code",
   "execution_count": null,
   "id": "2a31f464-cbc7-4b11-a82b-e90374488a20",
   "metadata": {},
   "outputs": [],
   "source": [
    "#Question7\n",
    "#Define a function apply_function that takes a function and a list of numbers as input. Apply the function to each number in the list and return a new list with the results.\n",
    "print(\"\\nFunction as an Argument:\")\n",
    "def apply_function(func, numbers):\n",
    "    return [func(num) for num in numbers]\n",
    "def square(x):\n",
    "    return x * x\n",
    "nums = [1, 2, 3, 4, 5]\n",
    "squared_nums = apply_function(square, nums)\n",
    "print(squared_nums)  \n"
   ]
  },
  {
   "cell_type": "code",
   "execution_count": null,
   "id": "d33eb912-2615-4306-8191-64a0876d1fb6",
   "metadata": {},
   "outputs": [],
   "source": [
    "#Question8\n",
    "#Create a lambda function to square a number.\n",
    "print(\"\\nLambda Functions:\")\n",
    "square = lambda x: x * x\n",
    "result = square(5)\n",
    "print(result)  "
   ]
  },
  {
   "cell_type": "code",
   "execution_count": null,
   "id": "2bdd10e7-859f-472b-b00e-962e7baa7388",
   "metadata": {},
   "outputs": [],
   "source": [
    "#Question9\n",
    "#Write a function apply_operation that takes a function and a list of numbers. Apply the function to each number and return a new list.\n",
    "print(\"\\nHigher-Order Functions:\")\n",
    "#Higher-order Function\n",
    "def apply_operation(func, numbers):\n",
    "    return [func(num) for num in numbers]\n",
    "result = apply_operation(lambda x: x ** 2, [1, 2, 3, 4])\n",
    "print(result)  "
   ]
  },
  {
   "cell_type": "code",
   "execution_count": null,
   "id": "c7499561-e915-40a3-ada4-43df23c7dcea",
   "metadata": {},
   "outputs": [],
   "source": [
    "#Question10\n",
    "#Implement a decorator to measure the execution time of a function.\n",
    "print(\"\\nFunction Decorators:\")\n",
    "import time\n",
    "def measure_time(func):\n",
    "    def wrapper(*args, **kwargs):\n",
    "        start_time = time.time()  \n",
    "        result = func(*args, **kwargs)  \n",
    "        end_time = time.time()  \n",
    "        execution_time = end_time - start_time\n",
    "        print(f\"Execution time of {func.__name__}: {execution_time:.4f} seconds\")\n",
    "        return result\n",
    "    return wrapper\n",
    "@measure_time\n",
    "def example_function(n):\n",
    "    total = 0\n",
    "    for i in range(n):\n",
    "        total += i\n",
    "    return total\n",
    "result = example_function(1000000)\n",
    "print(f\"Result: {result}\")\n",
    "#----------------------------------------------------------------------END------------------------------------------------------------------------------"
   ]
  }
 ],
 "metadata": {
  "kernelspec": {
   "display_name": "Python 3 (ipykernel)",
   "language": "python",
   "name": "python3"
  },
  "language_info": {
   "codemirror_mode": {
    "name": "ipython",
    "version": 3
   },
   "file_extension": ".py",
   "mimetype": "text/x-python",
   "name": "python",
   "nbconvert_exporter": "python",
   "pygments_lexer": "ipython3",
   "version": "3.12.4"
  }
 },
 "nbformat": 4,
 "nbformat_minor": 5
}
